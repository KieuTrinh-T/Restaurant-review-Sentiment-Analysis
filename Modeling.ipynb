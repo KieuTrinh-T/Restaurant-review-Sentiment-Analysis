{
 "cells": [
  {
   "cell_type": "code",
   "execution_count": 56,
   "metadata": {},
   "outputs": [],
   "source": [
    "import pandas as pd\n",
    "import numpy as np\n",
    "from keras.preprocessing.text import Tokenizer\n",
    "from imblearn.over_sampling import SMOTE\n",
    "from keras.utils import pad_sequences\n",
    "from sklearn.model_selection import train_test_split\n",
    "from imblearn.over_sampling import SMOTE\n",
    "from keras.models import Sequential\n",
    "from keras.layers import Dense, Embedding, LSTM, SpatialDropout1D, Dropout, Input, Flatten\n",
    "from keras.callbacks import EarlyStopping\n",
    "from sklearn.metrics import classification_report, confusion_matrix\n",
    "import matplotlib.pyplot as plt\n",
    "from sklearn.svm import LinearSVC\n",
    "import seaborn as sns"
   ]
  },
  {
   "cell_type": "code",
   "execution_count": 26,
   "metadata": {},
   "outputs": [
    {
     "name": "stdout",
     "output_type": "stream",
     "text": [
      "<class 'pandas.core.frame.DataFrame'>\n",
      "RangeIndex: 6903 entries, 0 to 6902\n",
      "Data columns (total 6 columns):\n",
      " #   Column       Non-Null Count  Dtype  \n",
      "---  ------       --------------  -----  \n",
      " 0   sentence_id  6903 non-null   object \n",
      " 1   review_id    6903 non-null   float64\n",
      " 2   review       6903 non-null   object \n",
      " 3   word_count   6903 non-null   int64  \n",
      " 4   vader        6903 non-null   int64  \n",
      " 5   textblob     6903 non-null   int64  \n",
      "dtypes: float64(1), int64(3), object(2)\n",
      "memory usage: 323.7+ KB\n"
     ]
    }
   ],
   "source": [
    "df = pd.read_csv('data\\labeled.csv')\n",
    "df.info()"
   ]
  },
  {
   "cell_type": "code",
   "execution_count": 27,
   "metadata": {},
   "outputs": [
    {
     "data": {
      "text/plain": [
       "1    6163\n",
       "0     740\n",
       "Name: vader, dtype: int64"
      ]
     },
     "execution_count": 27,
     "metadata": {},
     "output_type": "execute_result"
    }
   ],
   "source": [
    "df['vader'].value_counts()"
   ]
  },
  {
   "cell_type": "code",
   "execution_count": 28,
   "metadata": {},
   "outputs": [
    {
     "data": {
      "text/plain": [
       "1    5957\n",
       "0     946\n",
       "Name: textblob, dtype: int64"
      ]
     },
     "execution_count": 28,
     "metadata": {},
     "output_type": "execute_result"
    }
   ],
   "source": [
    "df['textblob'].value_counts()"
   ]
  },
  {
   "cell_type": "code",
   "execution_count": 29,
   "metadata": {},
   "outputs": [
    {
     "data": {
      "text/plain": [
       "1    5957\n",
       "0     946\n",
       "Name: textblob, dtype: int64"
      ]
     },
     "execution_count": 29,
     "metadata": {},
     "output_type": "execute_result"
    }
   ],
   "source": [
    "df['textblob'].value_counts()"
   ]
  },
  {
   "attachments": {},
   "cell_type": "markdown",
   "metadata": {},
   "source": [
    "# Transform"
   ]
  },
  {
   "cell_type": "code",
   "execution_count": 30,
   "metadata": {},
   "outputs": [
    {
     "name": "stdout",
     "output_type": "stream",
     "text": [
      "Found 5213 unique tokens.\n"
     ]
    }
   ],
   "source": [
    "# The maximum number of words to be used. (most frequent)\n",
    "MAX_NB_WORDS = 50000\n",
    "# Max number of words in each complaint.\n",
    "MAX_SEQUENCE_LENGTH = 25\n",
    "# This is fixed.\n",
    "EMBEDDING_DIM = 100\n",
    "tokenizer = Tokenizer(num_words=MAX_NB_WORDS)\n",
    "tokenizer.fit_on_texts(df['review'].values)\n",
    "word_index = tokenizer.word_index\n",
    "print('Found %s unique tokens.' % len(word_index))"
   ]
  },
  {
   "cell_type": "code",
   "execution_count": 31,
   "metadata": {},
   "outputs": [
    {
     "name": "stdout",
     "output_type": "stream",
     "text": [
      "Shape of data tensor: (6903, 25)\n"
     ]
    }
   ],
   "source": [
    "X = tokenizer.texts_to_sequences(df['review'].values)\n",
    "X = pad_sequences(X, maxlen=MAX_SEQUENCE_LENGTH)\n",
    "print('Shape of data tensor:', X.shape)"
   ]
  },
  {
   "cell_type": "code",
   "execution_count": 32,
   "metadata": {},
   "outputs": [
    {
     "name": "stdout",
     "output_type": "stream",
     "text": [
      "Shape of label tensor: (6903, 1)\n"
     ]
    }
   ],
   "source": [
    "Y_vader = df[['vader']].values\n",
    "print('Shape of label tensor:', Y_vader.shape)"
   ]
  },
  {
   "cell_type": "code",
   "execution_count": 34,
   "metadata": {},
   "outputs": [
    {
     "name": "stdout",
     "output_type": "stream",
     "text": [
      "Shape of label tensor: (6903, 1)\n"
     ]
    }
   ],
   "source": [
    "Y_textblob = df[['textblob']].values\n",
    "print('Shape of label tensor:', Y_textblob.shape)"
   ]
  },
  {
   "cell_type": "code",
   "execution_count": 35,
   "metadata": {},
   "outputs": [
    {
     "name": "stdout",
     "output_type": "stream",
     "text": [
      "(4832, 25) (4832, 1)\n"
     ]
    }
   ],
   "source": [
    "# Train test split vader\n",
    "X_vader_train, X_vader_test, Y_vader_train, Y_vader_test = train_test_split(X,Y_vader, test_size = 0.3, random_state = 42)\n",
    "print(X_vader_train.shape,Y_vader_train.shape)"
   ]
  },
  {
   "cell_type": "code",
   "execution_count": 36,
   "metadata": {},
   "outputs": [
    {
     "name": "stdout",
     "output_type": "stream",
     "text": [
      "(4832, 25) (4832, 1)\n"
     ]
    }
   ],
   "source": [
    "# Train test split textblob\n",
    "X_textblob_train, X_textblob_test, Y_textblob_train, Y_textblob_test = train_test_split(X,Y_textblob, test_size = 0.3, random_state = 42)\n",
    "print(X_textblob_train.shape,Y_textblob_train.shape)"
   ]
  },
  {
   "attachments": {},
   "cell_type": "markdown",
   "metadata": {},
   "source": [
    "# Resampling"
   ]
  },
  {
   "cell_type": "code",
   "execution_count": 37,
   "metadata": {},
   "outputs": [
    {
     "name": "stdout",
     "output_type": "stream",
     "text": [
      "(8636, 25) (8636,)\n"
     ]
    }
   ],
   "source": [
    "# Oversampling vader\n",
    "sm = SMOTE(random_state=42)\n",
    "X_vader_train_res, Y_vader_train_res = sm.fit_resample(X_vader_train, Y_vader_train)\n",
    "print(X_vader_train_res.shape,Y_vader_train_res.shape)"
   ]
  },
  {
   "cell_type": "code",
   "execution_count": 38,
   "metadata": {},
   "outputs": [
    {
     "name": "stdout",
     "output_type": "stream",
     "text": [
      "(8370, 25) (8370,)\n"
     ]
    }
   ],
   "source": [
    "# Oversampling textblob\n",
    "sm = SMOTE(random_state=42)\n",
    "X_textblob_train_res, Y_textblob_train_res = sm.fit_resample(X_textblob_train, Y_textblob_train)\n",
    "print(X_textblob_train_res.shape,Y_textblob_train_res.shape)\n"
   ]
  },
  {
   "attachments": {},
   "cell_type": "markdown",
   "metadata": {},
   "source": [
    "# Modeling"
   ]
  },
  {
   "attachments": {},
   "cell_type": "markdown",
   "metadata": {},
   "source": [
    "## LSTM"
   ]
  },
  {
   "cell_type": "code",
   "execution_count": 45,
   "metadata": {},
   "outputs": [
    {
     "name": "stdout",
     "output_type": "stream",
     "text": [
      "Model: \"sequential_2\"\n",
      "_________________________________________________________________\n",
      " Layer (type)                Output Shape              Param #   \n",
      "=================================================================\n",
      " embedding_2 (Embedding)     (None, 25, 100)           5000000   \n",
      "                                                                 \n",
      " lstm_4 (LSTM)               (None, 25, 100)           80400     \n",
      "                                                                 \n",
      " dropout_4 (Dropout)         (None, 25, 100)           0         \n",
      "                                                                 \n",
      " lstm_5 (LSTM)               (None, 25, 50)            30200     \n",
      "                                                                 \n",
      " dropout_5 (Dropout)         (None, 25, 50)            0         \n",
      "                                                                 \n",
      " flatten_2 (Flatten)         (None, 1250)              0         \n",
      "                                                                 \n",
      " dense_2 (Dense)             (None, 1)                 1251      \n",
      "                                                                 \n",
      "=================================================================\n",
      "Total params: 5,111,851\n",
      "Trainable params: 5,111,851\n",
      "Non-trainable params: 0\n",
      "_________________________________________________________________\n"
     ]
    }
   ],
   "source": [
    "max_features = 5000\n",
    "embed_dim = 150\n",
    "lstm_vader = Sequential()\n",
    "lstm_vader.add(Input(shape=[MAX_SEQUENCE_LENGTH], name='input'))\n",
    "lstm_vader.add(Embedding(MAX_NB_WORDS, EMBEDDING_DIM, input_length=X.shape[1]))\n",
    "lstm_vader.add(LSTM(100, dropout=0.2,return_sequences=True))\n",
    "lstm_vader.add(Dropout(0.2))\n",
    "lstm_vader.add(LSTM(50,dropout=0.2,  return_sequences=True))\n",
    "lstm_vader.add(Dropout(0.2))\n",
    "lstm_vader.add(Flatten())\n",
    "lstm_vader.add(Dense(1, activation='softmax'))\n",
    "lstm_vader.compile(loss='binary_crossentropy', optimizer='adam', metrics=['accuracy'])\n",
    "\n",
    "lstm_vader.summary()"
   ]
  },
  {
   "cell_type": "code",
   "execution_count": 46,
   "metadata": {},
   "outputs": [
    {
     "name": "stdout",
     "output_type": "stream",
     "text": [
      "Model: \"sequential_2\"\n",
      "_________________________________________________________________\n",
      " Layer (type)                Output Shape              Param #   \n",
      "=================================================================\n",
      " embedding_2 (Embedding)     (None, 25, 100)           5000000   \n",
      "                                                                 \n",
      " lstm_4 (LSTM)               (None, 25, 100)           80400     \n",
      "                                                                 \n",
      " dropout_4 (Dropout)         (None, 25, 100)           0         \n",
      "                                                                 \n",
      " lstm_5 (LSTM)               (None, 25, 50)            30200     \n",
      "                                                                 \n",
      " dropout_5 (Dropout)         (None, 25, 50)            0         \n",
      "                                                                 \n",
      " flatten_2 (Flatten)         (None, 1250)              0         \n",
      "                                                                 \n",
      " dense_2 (Dense)             (None, 1)                 1251      \n",
      "                                                                 \n",
      "=================================================================\n",
      "Total params: 5,111,851\n",
      "Trainable params: 5,111,851\n",
      "Non-trainable params: 0\n",
      "_________________________________________________________________\n",
      "None\n"
     ]
    }
   ],
   "source": [
    "lstm_textblob = lstm_vader\n",
    "lstm_textblob.compile(loss = 'binary_crossentropy', optimizer='adam',metrics = ['accuracy'])\n",
    "print(lstm_textblob.summary())"
   ]
  },
  {
   "attachments": {},
   "cell_type": "markdown",
   "metadata": {},
   "source": [
    "## Train with VADER dataset"
   ]
  },
  {
   "cell_type": "code",
   "execution_count": 47,
   "metadata": {},
   "outputs": [
    {
     "name": "stdout",
     "output_type": "stream",
     "text": [
      "Epoch 1/10\n",
      "432/432 [==============================] - 45s 95ms/step - loss: 0.6177 - accuracy: 0.6251 - val_loss: 0.8204 - val_accuracy: 0.0000e+00\n",
      "Epoch 2/10\n",
      "432/432 [==============================] - 36s 83ms/step - loss: 0.4861 - accuracy: 0.6251 - val_loss: 0.6503 - val_accuracy: 0.0000e+00\n",
      "Epoch 3/10\n",
      "432/432 [==============================] - 44s 102ms/step - loss: 0.3584 - accuracy: 0.6251 - val_loss: 0.6883 - val_accuracy: 0.0000e+00\n",
      "Epoch 4/10\n",
      "432/432 [==============================] - 44s 101ms/step - loss: 0.2480 - accuracy: 0.6251 - val_loss: 0.8044 - val_accuracy: 0.0000e+00\n",
      "Epoch 5/10\n",
      "432/432 [==============================] - 46s 107ms/step - loss: 0.1709 - accuracy: 0.6251 - val_loss: 0.9115 - val_accuracy: 0.0000e+00\n"
     ]
    }
   ],
   "source": [
    "epoches = 10\n",
    "batch_size = 16\n",
    "vader_history = lstm_vader.fit(X_vader_train_res, Y_vader_train_res, \n",
    "                          epochs=epoches, batch_size=batch_size,validation_split=0.2,\n",
    "                          callbacks=[EarlyStopping(monitor='val_loss', patience=3, min_delta=0.0001)])"
   ]
  },
  {
   "cell_type": "code",
   "execution_count": 48,
   "metadata": {},
   "outputs": [
    {
     "name": "stdout",
     "output_type": "stream",
     "text": [
      "65/65 [==============================] - 2s 10ms/step - loss: 1.6641 - accuracy: 0.8909\n",
      "Test set\n",
      "  Loss: 1.664\n",
      "  Accuracy: 0.891\n"
     ]
    }
   ],
   "source": [
    "#valuation\n",
    "accr = lstm_vader.evaluate(X_vader_test,Y_vader_test)\n",
    "print('Test set\\n  Loss: {:0.3f}\\n  Accuracy: {:0.3f}'.format(accr[0],accr[1]))"
   ]
  },
  {
   "cell_type": "code",
   "execution_count": 49,
   "metadata": {},
   "outputs": [
    {
     "name": "stdout",
     "output_type": "stream",
     "text": [
      "65/65 [==============================] - 1s 9ms/step\n",
      "Classification Report\n",
      "              precision    recall  f1-score   support\n",
      "\n",
      "           0       0.00      0.00      0.00       226\n",
      "           1       0.89      1.00      0.94      1845\n",
      "\n",
      "    accuracy                           0.89      2071\n",
      "   macro avg       0.45      0.50      0.47      2071\n",
      "weighted avg       0.79      0.89      0.84      2071\n",
      "\n"
     ]
    },
    {
     "name": "stderr",
     "output_type": "stream",
     "text": [
      "C:\\Users\\DELL\\AppData\\Local\\Packages\\PythonSoftwareFoundation.Python.3.10_qbz5n2kfra8p0\\LocalCache\\local-packages\\Python310\\site-packages\\sklearn\\metrics\\_classification.py:1344: UndefinedMetricWarning: Precision and F-score are ill-defined and being set to 0.0 in labels with no predicted samples. Use `zero_division` parameter to control this behavior.\n",
      "  _warn_prf(average, modifier, msg_start, len(result))\n",
      "C:\\Users\\DELL\\AppData\\Local\\Packages\\PythonSoftwareFoundation.Python.3.10_qbz5n2kfra8p0\\LocalCache\\local-packages\\Python310\\site-packages\\sklearn\\metrics\\_classification.py:1344: UndefinedMetricWarning: Precision and F-score are ill-defined and being set to 0.0 in labels with no predicted samples. Use `zero_division` parameter to control this behavior.\n",
      "  _warn_prf(average, modifier, msg_start, len(result))\n",
      "C:\\Users\\DELL\\AppData\\Local\\Packages\\PythonSoftwareFoundation.Python.3.10_qbz5n2kfra8p0\\LocalCache\\local-packages\\Python310\\site-packages\\sklearn\\metrics\\_classification.py:1344: UndefinedMetricWarning: Precision and F-score are ill-defined and being set to 0.0 in labels with no predicted samples. Use `zero_division` parameter to control this behavior.\n",
      "  _warn_prf(average, modifier, msg_start, len(result))\n"
     ]
    }
   ],
   "source": [
    "#print classification report\n",
    "y_pred = lstm_vader.predict(X_vader_test)\n",
    "print('Classification Report')\n",
    "print(classification_report(Y_vader_test, y_pred))"
   ]
  },
  {
   "cell_type": "code",
   "execution_count": 44,
   "metadata": {},
   "outputs": [
    {
     "name": "stdout",
     "output_type": "stream",
     "text": [
      "[[   0  226]\n",
      " [   0 1845]]\n"
     ]
    }
   ],
   "source": [
    "# confusion matrix\n",
    "print(confusion_matrix(Y_vader_test, y_pred))"
   ]
  },
  {
   "cell_type": "code",
   "execution_count": 88,
   "metadata": {},
   "outputs": [
    {
     "data": {
      "text/plain": [
       "<matplotlib.legend.Legend at 0x2050d04f370>"
      ]
     },
     "execution_count": 88,
     "metadata": {},
     "output_type": "execute_result"
    },
    {
     "data": {
      "image/png": "[encoded data removed]",
      "text/plain": [
       "<Figure size 640x480 with 1 Axes>"
      ]
     },
     "metadata": {},
     "output_type": "display_data"
    }
   ],
   "source": [
    "plt.plot(vader_history.history['accuracy'])\n",
    "plt.plot(vader_history.history['val_accuracy'])\n",
    "plt.title('model accuracy')\n",
    "plt.ylabel('accuracy')\n",
    "plt.xlabel('epoch')\n",
    "plt.legend(['train','validation'], loc='upper left')\n",
    "#this plot is to determine the appropriate epoches"
   ]
  },
  {
   "attachments": {},
   "cell_type": "markdown",
   "metadata": {},
   "source": [
    "## Train with TextBlob dataset"
   ]
  },
  {
   "cell_type": "code",
   "execution_count": 90,
   "metadata": {},
   "outputs": [
    {
     "name": "stdout",
     "output_type": "stream",
     "text": [
      "Epoch 1/4\n",
      "105/105 [==============================] - 18s 128ms/step - loss: 0.5247 - accuracy: 0.6250 - val_loss: 0.7210 - val_accuracy: 0.0000e+00\n",
      "Epoch 2/4\n",
      "105/105 [==============================] - 13s 121ms/step - loss: 0.3958 - accuracy: 0.6250 - val_loss: 0.4314 - val_accuracy: 0.0000e+00\n",
      "Epoch 3/4\n",
      "105/105 [==============================] - 16s 149ms/step - loss: 0.3050 - accuracy: 0.6250 - val_loss: 0.6868 - val_accuracy: 0.0000e+00\n",
      "Epoch 4/4\n",
      "105/105 [==============================] - 16s 154ms/step - loss: 0.2374 - accuracy: 0.6250 - val_loss: 0.6908 - val_accuracy: 0.0000e+00\n"
     ]
    }
   ],
   "source": [
    "epoches = 4\n",
    "batch_size = 64\n",
    "textblob_history = lstm_textblob.fit(X_textblob_train_res, Y_textblob_train_res,\n",
    "                                epochs=epoches, batch_size=batch_size,validation_split=0.2,\n",
    "                                callbacks=[EarlyStopping(monitor='val_loss', patience=3, min_delta=0.0001)])\n"
   ]
  },
  {
   "cell_type": "code",
   "execution_count": 91,
   "metadata": {},
   "outputs": [
    {
     "name": "stdout",
     "output_type": "stream",
     "text": [
      "65/65 [==============================] - 2s 10ms/step - loss: 2.2016 - accuracy: 0.8556\n",
      "Test set\n",
      "  Loss: 2.202\n",
      "  Accuracy: 0.856\n"
     ]
    }
   ],
   "source": [
    "accr = lstm_textblob.evaluate(X_textblob_test,Y_textblob_test)\n",
    "print('Test set\\n  Loss: {:0.3f}\\n  Accuracy: {:0.3f}'.format(accr[0],accr[1]))"
   ]
  },
  {
   "cell_type": "code",
   "execution_count": 101,
   "metadata": {},
   "outputs": [
    {
     "name": "stdout",
     "output_type": "stream",
     "text": [
      "65/65 [==============================] - 1s 8ms/step\n",
      "Classification Report\n",
      "              precision    recall  f1-score   support\n",
      "\n",
      "           0       0.00      0.00      0.00       299\n",
      "           1       0.86      1.00      0.92      1772\n",
      "\n",
      "    accuracy                           0.86      2071\n",
      "   macro avg       0.43      0.50      0.46      2071\n",
      "weighted avg       0.73      0.86      0.79      2071\n",
      "\n"
     ]
    },
    {
     "name": "stderr",
     "output_type": "stream",
     "text": [
      "C:\\Users\\DELL\\AppData\\Local\\Packages\\PythonSoftwareFoundation.Python.3.10_qbz5n2kfra8p0\\LocalCache\\local-packages\\Python310\\site-packages\\sklearn\\metrics\\_classification.py:1344: UndefinedMetricWarning: Precision and F-score are ill-defined and being set to 0.0 in labels with no predicted samples. Use `zero_division` parameter to control this behavior.\n",
      "  _warn_prf(average, modifier, msg_start, len(result))\n",
      "C:\\Users\\DELL\\AppData\\Local\\Packages\\PythonSoftwareFoundation.Python.3.10_qbz5n2kfra8p0\\LocalCache\\local-packages\\Python310\\site-packages\\sklearn\\metrics\\_classification.py:1344: UndefinedMetricWarning: Precision and F-score are ill-defined and being set to 0.0 in labels with no predicted samples. Use `zero_division` parameter to control this behavior.\n",
      "  _warn_prf(average, modifier, msg_start, len(result))\n",
      "C:\\Users\\DELL\\AppData\\Local\\Packages\\PythonSoftwareFoundation.Python.3.10_qbz5n2kfra8p0\\LocalCache\\local-packages\\Python310\\site-packages\\sklearn\\metrics\\_classification.py:1344: UndefinedMetricWarning: Precision and F-score are ill-defined and being set to 0.0 in labels with no predicted samples. Use `zero_division` parameter to control this behavior.\n",
      "  _warn_prf(average, modifier, msg_start, len(result))\n"
     ]
    }
   ],
   "source": [
    "#print classification report\n",
    "y_pred = lstm_textblob.predict(X_textblob_test)\n",
    "print('Classification Report')\n",
    "print(classification_report(Y_textblob_test, y_pred))"
   ]
  },
  {
   "cell_type": "code",
   "execution_count": 92,
   "metadata": {},
   "outputs": [
    {
     "data": {
      "text/plain": [
       "<matplotlib.legend.Legend at 0x2050db69d80>"
      ]
     },
     "execution_count": 92,
     "metadata": {},
     "output_type": "execute_result"
    },
    {
     "data": {
      "image/png": "[encoded data removed]",
      "text/plain": [
       "<Figure size 640x480 with 1 Axes>"
      ]
     },
     "metadata": {},
     "output_type": "display_data"
    }
   ],
   "source": [
    "plt.plot(textblob_history.history['accuracy'])\n",
    "plt.plot(textblob_history.history['val_accuracy'])\n",
    "plt.title('model accuracy')\n",
    "plt.ylabel('accuracy')\n",
    "plt.xlabel('epoch')\n",
    "plt.legend(['train','validation'], loc='upper left')"
   ]
  },
  {
   "attachments": {},
   "cell_type": "markdown",
   "metadata": {},
   "source": [
    "# SVM"
   ]
  },
  {
   "attachments": {},
   "cell_type": "markdown",
   "metadata": {},
   "source": [
    "## SVM-VADER"
   ]
  },
  {
   "cell_type": "code",
   "execution_count": 53,
   "metadata": {},
   "outputs": [
    {
     "name": "stdout",
     "output_type": "stream",
     "text": [
      "Classification Report\n",
      "              precision    recall  f1-score   support\n",
      "\n",
      "           0       0.10      0.32      0.16       226\n",
      "           1       0.89      0.66      0.76      1845\n",
      "\n",
      "    accuracy                           0.62      2071\n",
      "   macro avg       0.50      0.49      0.46      2071\n",
      "weighted avg       0.80      0.62      0.69      2071\n",
      "\n"
     ]
    },
    {
     "name": "stderr",
     "output_type": "stream",
     "text": [
      "C:\\Users\\DELL\\AppData\\Local\\Packages\\PythonSoftwareFoundation.Python.3.10_qbz5n2kfra8p0\\LocalCache\\local-packages\\Python310\\site-packages\\sklearn\\svm\\_base.py:1244: ConvergenceWarning: Liblinear failed to converge, increase the number of iterations.\n",
      "  warnings.warn(\n"
     ]
    }
   ],
   "source": [
    "svm = LinearSVC()\n",
    "svm.fit(X_vader_train_res, Y_vader_train_res)\n",
    "y_pred = svm.predict(X_vader_test)\n",
    "print('Classification Report')\n",
    "print(classification_report(Y_vader_test, y_pred))"
   ]
  },
  {
   "cell_type": "code",
   "execution_count": 57,
   "metadata": {},
   "outputs": [
    {
     "data": {
      "image/png": "[encoded data removed]",
      "text/plain": [
       "<Figure size 640x480 with 2 Axes>"
      ]
     },
     "metadata": {},
     "output_type": "display_data"
    }
   ],
   "source": [
    "# Plot the confusion matrix\n",
    "cm = confusion_matrix(Y_vader_test, y_pred)\n",
    "sns.heatmap(cm, annot=True, cmap='Blues', fmt='g')\n",
    "plt.xlabel('Predicted Label')\n",
    "plt.ylabel('True Label')\n",
    "plt.show()"
   ]
  },
  {
   "attachments": {},
   "cell_type": "markdown",
   "metadata": {},
   "source": [
    "## SVM-TEXTBLOB"
   ]
  },
  {
   "cell_type": "code",
   "execution_count": 58,
   "metadata": {},
   "outputs": [
    {
     "name": "stdout",
     "output_type": "stream",
     "text": [
      "Classification Report\n",
      "              precision    recall  f1-score   support\n",
      "\n",
      "           0       0.20      0.21      0.20       299\n",
      "           1       0.87      0.86      0.86      1772\n",
      "\n",
      "    accuracy                           0.77      2071\n",
      "   macro avg       0.53      0.53      0.53      2071\n",
      "weighted avg       0.77      0.77      0.77      2071\n",
      "\n"
     ]
    },
    {
     "name": "stderr",
     "output_type": "stream",
     "text": [
      "C:\\Users\\DELL\\AppData\\Local\\Packages\\PythonSoftwareFoundation.Python.3.10_qbz5n2kfra8p0\\LocalCache\\local-packages\\Python310\\site-packages\\sklearn\\svm\\_base.py:1244: ConvergenceWarning: Liblinear failed to converge, increase the number of iterations.\n",
      "  warnings.warn(\n"
     ]
    }
   ],
   "source": [
    "svm_textblob = svm\n",
    "svm_textblob.fit(X_textblob_train_res, Y_textblob_train_res)\n",
    "y_pred = svm_textblob.predict(X_textblob_test)\n",
    "print('Classification Report')\n",
    "print(classification_report(Y_textblob_test, y_pred))"
   ]
  },
  {
   "cell_type": "code",
   "execution_count": 59,
   "metadata": {},
   "outputs": [
    {
     "data": {
      "image/png": "[encoded data removed]",
      "text/plain": [
       "<Figure size 640x480 with 2 Axes>"
      ]
     },
     "metadata": {},
     "output_type": "display_data"
    }
   ],
   "source": [
    "# Plot the confusion matrix\n",
    "cm = confusion_matrix(Y_textblob_test, y_pred)\n",
    "sns.heatmap(cm, annot=True, cmap='Blues', fmt='g')\n",
    "plt.xlabel('Predicted Label')\n",
    "plt.ylabel('True Label')\n",
    "plt.show()"
   ]
  }
 ],
 "metadata": {
  "kernelspec": {
   "display_name": "Python 3",
   "language": "python",
   "name": "python3"
  },
  "language_info": {
   "codemirror_mode": {
    "name": "ipython",
    "version": 3
   },
   "file_extension": ".py",
   "mimetype": "text/x-python",
   "name": "python",
   "nbconvert_exporter": "python",
   "pygments_lexer": "ipython3",
   "version": "3.10.11"
  },
  "orig_nbformat": 4
 },
 "nbformat": 4,
 "nbformat_minor": 2
}
